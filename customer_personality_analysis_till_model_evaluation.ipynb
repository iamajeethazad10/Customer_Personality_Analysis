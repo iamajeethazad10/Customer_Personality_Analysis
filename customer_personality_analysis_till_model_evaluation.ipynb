{
  "nbformat": 4,
  "nbformat_minor": 0,
  "metadata": {
    "colab": {
      "provenance": [],
      "include_colab_link": true
    },
    "kernelspec": {
      "name": "python3",
      "display_name": "Python 3"
    },
    "language_info": {
      "name": "python"
    }
  },
  "cells": [
    {
      "cell_type": "markdown",
      "metadata": {
        "id": "view-in-github",
        "colab_type": "text"
      },
      "source": [
        "<a href=\"https://colab.research.google.com/github/iamajeethazad10/Customer_Personality_Analysis/blob/main/customer_personality_analysis_till_model_evaluation.ipynb\" target=\"_parent\"><img src=\"https://colab.research.google.com/assets/colab-badge.svg\" alt=\"Open In Colab\"/></a>"
      ]
    },
    {
      "cell_type": "code",
      "execution_count": null,
      "metadata": {
        "id": "tJETsyJMZdid"
      },
      "outputs": [],
      "source": [
        "#Basic Libraries\n",
        "import pandas as pd\n",
        "import numpy as np\n",
        "\n",
        "import matplotlib.pyplot as plt\n",
        "import seaborn as sns\n",
        "from plotly.subplots import make_subplots\n",
        "import plotly.graph_objects as go\n",
        "\n",
        "\n",
        "#Preprocessing\n",
        "from sklearn.preprocessing import StandardScaler\n"
      ]
    },
    {
      "cell_type": "code",
      "source": [
        "data = pd.read_excel(\"/content/marketing_campaign1 (1).xlsx\")\n",
        "data"
      ],
      "metadata": {
        "colab": {
          "base_uri": "https://localhost:8080/",
          "height": 338
        },
        "id": "16KlKTLtaWQk",
        "outputId": "9a58c628-771b-401b-d8b2-d7c15aaf488d"
      },
      "execution_count": null,
      "outputs": [
        {
          "output_type": "error",
          "ename": "FileNotFoundError",
          "evalue": "ignored",
          "traceback": [
            "\u001b[0;31m---------------------------------------------------------------------------\u001b[0m",
            "\u001b[0;31mFileNotFoundError\u001b[0m                         Traceback (most recent call last)",
            "\u001b[0;32m<ipython-input-2-d17891b507eb>\u001b[0m in \u001b[0;36m<cell line: 1>\u001b[0;34m()\u001b[0m\n\u001b[0;32m----> 1\u001b[0;31m \u001b[0mdata\u001b[0m \u001b[0;34m=\u001b[0m \u001b[0mpd\u001b[0m\u001b[0;34m.\u001b[0m\u001b[0mread_excel\u001b[0m\u001b[0;34m(\u001b[0m\u001b[0;34m\"/content/marketing_campaign1 (1).xlsx\"\u001b[0m\u001b[0;34m)\u001b[0m\u001b[0;34m\u001b[0m\u001b[0;34m\u001b[0m\u001b[0m\n\u001b[0m\u001b[1;32m      2\u001b[0m \u001b[0mdata\u001b[0m\u001b[0;34m\u001b[0m\u001b[0;34m\u001b[0m\u001b[0m\n",
            "\u001b[0;32m/usr/local/lib/python3.10/dist-packages/pandas/util/_decorators.py\u001b[0m in \u001b[0;36mwrapper\u001b[0;34m(*args, **kwargs)\u001b[0m\n\u001b[1;32m    209\u001b[0m                 \u001b[0;32melse\u001b[0m\u001b[0;34m:\u001b[0m\u001b[0;34m\u001b[0m\u001b[0;34m\u001b[0m\u001b[0m\n\u001b[1;32m    210\u001b[0m                     \u001b[0mkwargs\u001b[0m\u001b[0;34m[\u001b[0m\u001b[0mnew_arg_name\u001b[0m\u001b[0;34m]\u001b[0m \u001b[0;34m=\u001b[0m \u001b[0mnew_arg_value\u001b[0m\u001b[0;34m\u001b[0m\u001b[0;34m\u001b[0m\u001b[0m\n\u001b[0;32m--> 211\u001b[0;31m             \u001b[0;32mreturn\u001b[0m \u001b[0mfunc\u001b[0m\u001b[0;34m(\u001b[0m\u001b[0;34m*\u001b[0m\u001b[0margs\u001b[0m\u001b[0;34m,\u001b[0m \u001b[0;34m**\u001b[0m\u001b[0mkwargs\u001b[0m\u001b[0;34m)\u001b[0m\u001b[0;34m\u001b[0m\u001b[0;34m\u001b[0m\u001b[0m\n\u001b[0m\u001b[1;32m    212\u001b[0m \u001b[0;34m\u001b[0m\u001b[0m\n\u001b[1;32m    213\u001b[0m         \u001b[0;32mreturn\u001b[0m \u001b[0mcast\u001b[0m\u001b[0;34m(\u001b[0m\u001b[0mF\u001b[0m\u001b[0;34m,\u001b[0m \u001b[0mwrapper\u001b[0m\u001b[0;34m)\u001b[0m\u001b[0;34m\u001b[0m\u001b[0;34m\u001b[0m\u001b[0m\n",
            "\u001b[0;32m/usr/local/lib/python3.10/dist-packages/pandas/util/_decorators.py\u001b[0m in \u001b[0;36mwrapper\u001b[0;34m(*args, **kwargs)\u001b[0m\n\u001b[1;32m    329\u001b[0m                     \u001b[0mstacklevel\u001b[0m\u001b[0;34m=\u001b[0m\u001b[0mfind_stack_level\u001b[0m\u001b[0;34m(\u001b[0m\u001b[0;34m)\u001b[0m\u001b[0;34m,\u001b[0m\u001b[0;34m\u001b[0m\u001b[0;34m\u001b[0m\u001b[0m\n\u001b[1;32m    330\u001b[0m                 )\n\u001b[0;32m--> 331\u001b[0;31m             \u001b[0;32mreturn\u001b[0m \u001b[0mfunc\u001b[0m\u001b[0;34m(\u001b[0m\u001b[0;34m*\u001b[0m\u001b[0margs\u001b[0m\u001b[0;34m,\u001b[0m \u001b[0;34m**\u001b[0m\u001b[0mkwargs\u001b[0m\u001b[0;34m)\u001b[0m\u001b[0;34m\u001b[0m\u001b[0;34m\u001b[0m\u001b[0m\n\u001b[0m\u001b[1;32m    332\u001b[0m \u001b[0;34m\u001b[0m\u001b[0m\n\u001b[1;32m    333\u001b[0m         \u001b[0;31m# error: \"Callable[[VarArg(Any), KwArg(Any)], Any]\" has no\u001b[0m\u001b[0;34m\u001b[0m\u001b[0;34m\u001b[0m\u001b[0m\n",
            "\u001b[0;32m/usr/local/lib/python3.10/dist-packages/pandas/io/excel/_base.py\u001b[0m in \u001b[0;36mread_excel\u001b[0;34m(io, sheet_name, header, names, index_col, usecols, squeeze, dtype, engine, converters, true_values, false_values, skiprows, nrows, na_values, keep_default_na, na_filter, verbose, parse_dates, date_parser, thousands, decimal, comment, skipfooter, convert_float, mangle_dupe_cols, storage_options)\u001b[0m\n\u001b[1;32m    480\u001b[0m     \u001b[0;32mif\u001b[0m \u001b[0;32mnot\u001b[0m \u001b[0misinstance\u001b[0m\u001b[0;34m(\u001b[0m\u001b[0mio\u001b[0m\u001b[0;34m,\u001b[0m \u001b[0mExcelFile\u001b[0m\u001b[0;34m)\u001b[0m\u001b[0;34m:\u001b[0m\u001b[0;34m\u001b[0m\u001b[0;34m\u001b[0m\u001b[0m\n\u001b[1;32m    481\u001b[0m         \u001b[0mshould_close\u001b[0m \u001b[0;34m=\u001b[0m \u001b[0;32mTrue\u001b[0m\u001b[0;34m\u001b[0m\u001b[0;34m\u001b[0m\u001b[0m\n\u001b[0;32m--> 482\u001b[0;31m         \u001b[0mio\u001b[0m \u001b[0;34m=\u001b[0m \u001b[0mExcelFile\u001b[0m\u001b[0;34m(\u001b[0m\u001b[0mio\u001b[0m\u001b[0;34m,\u001b[0m \u001b[0mstorage_options\u001b[0m\u001b[0;34m=\u001b[0m\u001b[0mstorage_options\u001b[0m\u001b[0;34m,\u001b[0m \u001b[0mengine\u001b[0m\u001b[0;34m=\u001b[0m\u001b[0mengine\u001b[0m\u001b[0;34m)\u001b[0m\u001b[0;34m\u001b[0m\u001b[0;34m\u001b[0m\u001b[0m\n\u001b[0m\u001b[1;32m    483\u001b[0m     \u001b[0;32melif\u001b[0m \u001b[0mengine\u001b[0m \u001b[0;32mand\u001b[0m \u001b[0mengine\u001b[0m \u001b[0;34m!=\u001b[0m \u001b[0mio\u001b[0m\u001b[0;34m.\u001b[0m\u001b[0mengine\u001b[0m\u001b[0;34m:\u001b[0m\u001b[0;34m\u001b[0m\u001b[0;34m\u001b[0m\u001b[0m\n\u001b[1;32m    484\u001b[0m         raise ValueError(\n",
            "\u001b[0;32m/usr/local/lib/python3.10/dist-packages/pandas/io/excel/_base.py\u001b[0m in \u001b[0;36m__init__\u001b[0;34m(self, path_or_buffer, engine, storage_options)\u001b[0m\n\u001b[1;32m   1650\u001b[0m                 \u001b[0mext\u001b[0m \u001b[0;34m=\u001b[0m \u001b[0;34m\"xls\"\u001b[0m\u001b[0;34m\u001b[0m\u001b[0;34m\u001b[0m\u001b[0m\n\u001b[1;32m   1651\u001b[0m             \u001b[0;32melse\u001b[0m\u001b[0;34m:\u001b[0m\u001b[0;34m\u001b[0m\u001b[0;34m\u001b[0m\u001b[0m\n\u001b[0;32m-> 1652\u001b[0;31m                 ext = inspect_excel_format(\n\u001b[0m\u001b[1;32m   1653\u001b[0m                     \u001b[0mcontent_or_path\u001b[0m\u001b[0;34m=\u001b[0m\u001b[0mpath_or_buffer\u001b[0m\u001b[0;34m,\u001b[0m \u001b[0mstorage_options\u001b[0m\u001b[0;34m=\u001b[0m\u001b[0mstorage_options\u001b[0m\u001b[0;34m\u001b[0m\u001b[0;34m\u001b[0m\u001b[0m\n\u001b[1;32m   1654\u001b[0m                 )\n",
            "\u001b[0;32m/usr/local/lib/python3.10/dist-packages/pandas/io/excel/_base.py\u001b[0m in \u001b[0;36minspect_excel_format\u001b[0;34m(content_or_path, storage_options)\u001b[0m\n\u001b[1;32m   1523\u001b[0m         \u001b[0mcontent_or_path\u001b[0m \u001b[0;34m=\u001b[0m \u001b[0mBytesIO\u001b[0m\u001b[0;34m(\u001b[0m\u001b[0mcontent_or_path\u001b[0m\u001b[0;34m)\u001b[0m\u001b[0;34m\u001b[0m\u001b[0;34m\u001b[0m\u001b[0m\n\u001b[1;32m   1524\u001b[0m \u001b[0;34m\u001b[0m\u001b[0m\n\u001b[0;32m-> 1525\u001b[0;31m     with get_handle(\n\u001b[0m\u001b[1;32m   1526\u001b[0m         \u001b[0mcontent_or_path\u001b[0m\u001b[0;34m,\u001b[0m \u001b[0;34m\"rb\"\u001b[0m\u001b[0;34m,\u001b[0m \u001b[0mstorage_options\u001b[0m\u001b[0;34m=\u001b[0m\u001b[0mstorage_options\u001b[0m\u001b[0;34m,\u001b[0m \u001b[0mis_text\u001b[0m\u001b[0;34m=\u001b[0m\u001b[0;32mFalse\u001b[0m\u001b[0;34m\u001b[0m\u001b[0;34m\u001b[0m\u001b[0m\n\u001b[1;32m   1527\u001b[0m     ) as handle:\n",
            "\u001b[0;32m/usr/local/lib/python3.10/dist-packages/pandas/io/common.py\u001b[0m in \u001b[0;36mget_handle\u001b[0;34m(path_or_buf, mode, encoding, compression, memory_map, is_text, errors, storage_options)\u001b[0m\n\u001b[1;32m    863\u001b[0m         \u001b[0;32melse\u001b[0m\u001b[0;34m:\u001b[0m\u001b[0;34m\u001b[0m\u001b[0;34m\u001b[0m\u001b[0m\n\u001b[1;32m    864\u001b[0m             \u001b[0;31m# Binary mode\u001b[0m\u001b[0;34m\u001b[0m\u001b[0;34m\u001b[0m\u001b[0m\n\u001b[0;32m--> 865\u001b[0;31m             \u001b[0mhandle\u001b[0m \u001b[0;34m=\u001b[0m \u001b[0mopen\u001b[0m\u001b[0;34m(\u001b[0m\u001b[0mhandle\u001b[0m\u001b[0;34m,\u001b[0m \u001b[0mioargs\u001b[0m\u001b[0;34m.\u001b[0m\u001b[0mmode\u001b[0m\u001b[0;34m)\u001b[0m\u001b[0;34m\u001b[0m\u001b[0;34m\u001b[0m\u001b[0m\n\u001b[0m\u001b[1;32m    866\u001b[0m         \u001b[0mhandles\u001b[0m\u001b[0;34m.\u001b[0m\u001b[0mappend\u001b[0m\u001b[0;34m(\u001b[0m\u001b[0mhandle\u001b[0m\u001b[0;34m)\u001b[0m\u001b[0;34m\u001b[0m\u001b[0;34m\u001b[0m\u001b[0m\n\u001b[1;32m    867\u001b[0m \u001b[0;34m\u001b[0m\u001b[0m\n",
            "\u001b[0;31mFileNotFoundError\u001b[0m: [Errno 2] No such file or directory: '/content/marketing_campaign1 (1).xlsx'"
          ]
        }
      ]
    },
    {
      "cell_type": "code",
      "source": [
        "#Missing Values\n",
        "data.isnull().any()"
      ],
      "metadata": {
        "id": "Gzn-X1SWbcR5"
      },
      "execution_count": null,
      "outputs": []
    },
    {
      "cell_type": "code",
      "source": [
        "data.isnull().sum()"
      ],
      "metadata": {
        "id": "HVMpGCu8bldx"
      },
      "execution_count": null,
      "outputs": []
    },
    {
      "cell_type": "code",
      "source": [
        "data = data.dropna()"
      ],
      "metadata": {
        "id": "7wkde81Pbr2d"
      },
      "execution_count": null,
      "outputs": []
    },
    {
      "cell_type": "code",
      "source": [
        "data.isnull().sum()"
      ],
      "metadata": {
        "id": "y09QZp2JbuzY"
      },
      "execution_count": null,
      "outputs": []
    },
    {
      "cell_type": "code",
      "source": [
        "data.duplicated().any"
      ],
      "metadata": {
        "id": "dAH_H_7tcU2K"
      },
      "execution_count": null,
      "outputs": []
    },
    {
      "cell_type": "code",
      "source": [
        "data.duplicated().sum()"
      ],
      "metadata": {
        "id": "au_p19ZXb1vN"
      },
      "execution_count": null,
      "outputs": []
    },
    {
      "cell_type": "markdown",
      "source": [
        "# **Feature Engineering**"
      ],
      "metadata": {
        "id": "Jge3agFIcYpX"
      }
    },
    {
      "cell_type": "code",
      "source": [
        "data.info()"
      ],
      "metadata": {
        "id": "eEN-2bP2cW-b"
      },
      "execution_count": null,
      "outputs": []
    },
    {
      "cell_type": "code",
      "source": [
        "data['Dt_Customer'] = pd.to_datetime(data['Dt_Customer'])"
      ],
      "metadata": {
        "id": "WDWNFMXBdEwg"
      },
      "execution_count": null,
      "outputs": []
    },
    {
      "cell_type": "code",
      "source": [
        "data.info()"
      ],
      "metadata": {
        "id": "Sd6XHihFdj2o"
      },
      "execution_count": null,
      "outputs": []
    },
    {
      "cell_type": "code",
      "source": [
        "print(\"The newest customer enrolled date in the records:\", max(data['Dt_Customer']))\n",
        "print(\"The oldest customer enrolled date in the records:\", min(data['Dt_Customer']))"
      ],
      "metadata": {
        "id": "NKFujjB4eCGK"
      },
      "execution_count": null,
      "outputs": []
    },
    {
      "cell_type": "code",
      "source": [
        "data['Age'] = 2015-data['Year_Birth']\n",
        "data['Age'].head()"
      ],
      "metadata": {
        "id": "cpyxDAJefEYM"
      },
      "execution_count": null,
      "outputs": []
    },
    {
      "cell_type": "code",
      "source": [
        "#Total Spent of Money on Products\n",
        "data['Total_Spent'] = data['MntWines'] + data['MntFruits'] + data['MntMeatProducts'] + data['MntFishProducts'] + data['MntFishProducts'] + data['MntGoldProds']\n",
        "data['Total_Spent'].head()"
      ],
      "metadata": {
        "id": "vERgKJA7hKzu"
      },
      "execution_count": null,
      "outputs": []
    },
    {
      "cell_type": "code",
      "source": [
        "#Living Status\n",
        "data['Living'] = data['Marital_Status'].replace({'Married':'Partner', 'Together':'Partner', 'Absurd':'Alone', 'Widow':'Alone', 'YOLO':'Alone', 'Divorced':'Alone', 'Single':'Alone'})\n",
        "data['Living'].head()"
      ],
      "metadata": {
        "id": "ZHh1AYoBtQTD"
      },
      "execution_count": null,
      "outputs": []
    },
    {
      "cell_type": "code",
      "source": [
        "#Number of Kids In home\n",
        "data['kids'] = data['Kidhome'] + data['Teenhome']\n",
        "data['kids'].head()"
      ],
      "metadata": {
        "id": "3Ek6QKxJt9pL"
      },
      "execution_count": null,
      "outputs": []
    },
    {
      "cell_type": "code",
      "source": [
        "#Education Class\n",
        "data['Education'] = data['Education'].replace({'Basic':'Undergraduate', '2n Cycle':'Undergraduate', 'Graduation':'Graduate', 'Master':'Postgraduate', 'PhD':'Postgraduate'})\n",
        "data['Education'].head()"
      ],
      "metadata": {
        "id": "EUbmMtYNvMUc"
      },
      "execution_count": null,
      "outputs": []
    },
    {
      "cell_type": "code",
      "source": [
        "#Dropping Irrelevant Columns\n",
        "data_drop = ['Marital_Status', 'Dt_Customer', 'Z_CostContact', 'Z_Revenue', 'Year_Birth', 'ID']\n",
        "data = data.drop(data_drop, axis=1)"
      ],
      "metadata": {
        "id": "vodYvrb1vqTt"
      },
      "execution_count": null,
      "outputs": []
    },
    {
      "cell_type": "code",
      "source": [
        "data"
      ],
      "metadata": {
        "id": "vV4ud0c-v63D"
      },
      "execution_count": null,
      "outputs": []
    },
    {
      "cell_type": "code",
      "source": [
        "data.shape"
      ],
      "metadata": {
        "id": "qkb2r5TGcygp"
      },
      "execution_count": null,
      "outputs": []
    },
    {
      "cell_type": "code",
      "source": [
        "data.describe()"
      ],
      "metadata": {
        "id": "sH11FE8Qc0fb"
      },
      "execution_count": null,
      "outputs": []
    },
    {
      "cell_type": "code",
      "source": [
        "#Spending Based on Age\n",
        "plt.figure(figsize=(15,8))\n",
        "sns.scatterplot(x=data['Age'],y=data['Total_Spent']);"
      ],
      "metadata": {
        "id": "H7ekS7Fdc3fo"
      },
      "execution_count": null,
      "outputs": []
    },
    {
      "cell_type": "code",
      "source": [
        "#Sepending based on Education Class\n",
        "plt.figure(figsize=(13,8))\n",
        "sns.histplot(x=data['Total_Spent'], hue=data['Education']);"
      ],
      "metadata": {
        "id": "gw2sjZqHxnXc"
      },
      "execution_count": null,
      "outputs": []
    },
    {
      "cell_type": "code",
      "source": [
        "data['Education'].value_counts().plot.pie(explode=[0.1,0,0], autopct='%1.1f%%', shadow=True, figsize=(8,8), colors=sns.color_palette('bright'));"
      ],
      "metadata": {
        "id": "ZcN_JcT1yM_t"
      },
      "execution_count": null,
      "outputs": []
    },
    {
      "cell_type": "markdown",
      "source": [
        "# **Outliers Detection**"
      ],
      "metadata": {
        "id": "1g2M2WwgyjKQ"
      }
    },
    {
      "cell_type": "code",
      "source": [
        "plt.figure(figsize=(15,8))\n",
        "sns.distplot(data.Age, color='red');"
      ],
      "metadata": {
        "id": "JEq_PgdNynUq"
      },
      "execution_count": null,
      "outputs": []
    },
    {
      "cell_type": "code",
      "source": [
        "plt.figure(figsize=(15,8))\n",
        "sns.distplot(data.Income, color='blue');"
      ],
      "metadata": {
        "id": "CkAyqrh9y2bp"
      },
      "execution_count": null,
      "outputs": []
    },
    {
      "cell_type": "code",
      "source": [
        "plt.figure(figsize=(15,8))\n",
        "sns.distplot(data.Total_Spent, color='#ff9966');"
      ],
      "metadata": {
        "id": "IPejjXjBy-2b"
      },
      "execution_count": null,
      "outputs": []
    },
    {
      "cell_type": "code",
      "source": [
        "fig = make_subplots(rows=1, cols=3)\n",
        "\n",
        "fig.add_trace(go.Box(y=data['Age'], notched=True, name='Age', marker_color = '#6699ff',\n",
        "                     boxmean=True, boxpoints='suspectedoutliers'), 1, 2)\n",
        "\n",
        "fig.add_trace(go.Box(y=data['Income'], notched=True, name='Income', marker_color = '#ff0066',\n",
        "                     boxmean=True, boxpoints='suspectedoutliers'), 1, 1)\n",
        "\n",
        "fig.add_trace(go.Box(y=data['Total_Spent'], notched=True, name='Spent', marker_color = 'lightseagreen',\n",
        "                     boxmean=True, boxpoints='suspectedoutliers'), 1, 3)\n",
        "\n",
        "fig.update_layout(title_text='Box Plots for Numerical Variables')\n",
        "\n",
        "fig.show()"
      ],
      "metadata": {
        "id": "OhhI-idJzVbC"
      },
      "execution_count": null,
      "outputs": []
    },
    {
      "cell_type": "code",
      "source": [
        "data.head()"
      ],
      "metadata": {
        "id": "vUwxH-rDz5JD"
      },
      "execution_count": null,
      "outputs": []
    },
    {
      "cell_type": "code",
      "source": [
        "Numerical = ['Income', 'Recency', 'Age', 'Total_Spent']"
      ],
      "metadata": {
        "id": "vs3Jlf-8z_Fs"
      },
      "execution_count": null,
      "outputs": []
    },
    {
      "cell_type": "code",
      "source": [
        "def detect_outliers(d):\n",
        "  for i in d:\n",
        "    Q1, Q3 = np.percentile(data[i], [25 ,75])\n",
        "    IQR = Q3 - Q1\n",
        "\n",
        "    ul = Q3+1.5*IQR\n",
        "    ll = Q1-1.5*IQR\n",
        "\n",
        "    outliers = data[i][(data[i] > ul) | (data[i] < ll)]\n",
        "    print(f'*** {i} outlier points***', '\\n', outliers, '\\n')"
      ],
      "metadata": {
        "id": "h938PBsO0God"
      },
      "execution_count": null,
      "outputs": []
    },
    {
      "cell_type": "code",
      "source": [
        "detect_outliers(Numerical)"
      ],
      "metadata": {
        "id": "3-i5AA0H0Yki"
      },
      "execution_count": null,
      "outputs": []
    },
    {
      "cell_type": "code",
      "source": [
        "#removing Some Outliers\n",
        "data = data[(data['Age']<100)]\n",
        "data = data[(data['Income']<600000)]"
      ],
      "metadata": {
        "id": "fVJhjliK0voK"
      },
      "execution_count": null,
      "outputs": []
    },
    {
      "cell_type": "code",
      "source": [
        "data.shape"
      ],
      "metadata": {
        "id": "XAnWjpxI0014"
      },
      "execution_count": null,
      "outputs": []
    },
    {
      "cell_type": "markdown",
      "source": [
        "# **Rare Categories**"
      ],
      "metadata": {
        "id": "Qgi8tudP6G8C"
      }
    },
    {
      "cell_type": "code",
      "source": [
        "Categorical = [var for var in data.columns if data[var].dtype=='O']"
      ],
      "metadata": {
        "id": "hFpphboK6Kno"
      },
      "execution_count": null,
      "outputs": []
    },
    {
      "cell_type": "code",
      "source": [
        "# check the number of different labels\n",
        "for var in Categorical:\n",
        "    print(data[var].value_counts() / np.float(len(data)))\n",
        "    print()\n",
        "    print()\n"
      ],
      "metadata": {
        "id": "Z06_jPg16cDe"
      },
      "execution_count": null,
      "outputs": []
    },
    {
      "cell_type": "markdown",
      "source": [
        "## **Categorical Variables Encoding**"
      ],
      "metadata": {
        "id": "RDvNUq0P6tv0"
      }
    },
    {
      "cell_type": "code",
      "source": [
        "Categorical"
      ],
      "metadata": {
        "id": "Tt2XrRga6va1"
      },
      "execution_count": null,
      "outputs": []
    },
    {
      "cell_type": "code",
      "source": [
        "data['Living'].unique()"
      ],
      "metadata": {
        "id": "F6_bbbCO61Zm"
      },
      "execution_count": null,
      "outputs": []
    },
    {
      "cell_type": "code",
      "source": [
        "data['Education'] = data['Education'].map({'Undergraduate':0,'Graduate':1, 'Postgraduate':2})"
      ],
      "metadata": {
        "id": "geu-YudX6-vK"
      },
      "execution_count": null,
      "outputs": []
    },
    {
      "cell_type": "code",
      "source": [
        "data['Living'] = data['Living'].map({'Alone':0,'Partner':1})"
      ],
      "metadata": {
        "id": "OROG4UFE7B6_"
      },
      "execution_count": null,
      "outputs": []
    },
    {
      "cell_type": "code",
      "source": [
        "data.dtypes"
      ],
      "metadata": {
        "id": "pNUIrg417Ffn"
      },
      "execution_count": null,
      "outputs": []
    },
    {
      "cell_type": "code",
      "source": [
        "df=data.copy()"
      ],
      "metadata": {
        "id": "RUACbSiAsJJN"
      },
      "execution_count": null,
      "outputs": []
    },
    {
      "cell_type": "code",
      "source": [
        "corrmap = data.corr()\n",
        "\n",
        "plt.figure(figsize=(25,20))\n",
        "sns.heatmap(corrmap, annot = True, cmap = 'mako', center = 0)"
      ],
      "metadata": {
        "id": "5uiH4p3b7PCu"
      },
      "execution_count": null,
      "outputs": []
    },
    {
      "cell_type": "code",
      "source": [
        "data = data.copy()\n",
        "\n",
        "# creating a subset of dataframe by dropping the features on deals accepted and promotions\n",
        "cols_del = ['AcceptedCmp1', 'AcceptedCmp2', 'AcceptedCmp3', 'AcceptedCmp4','AcceptedCmp5', 'Complain', 'Response']\n",
        "data = data.drop(cols_del, axis=1)"
      ],
      "metadata": {
        "id": "4sTCNpco8AzY"
      },
      "execution_count": null,
      "outputs": []
    },
    {
      "cell_type": "code",
      "source": [
        "stdscaler = StandardScaler()\n",
        "data = pd.DataFrame(stdscaler.fit_transform(data), columns = data.columns)"
      ],
      "metadata": {
        "id": "XAIlOdKt8L1u"
      },
      "execution_count": null,
      "outputs": []
    },
    {
      "cell_type": "code",
      "source": [
        "data.head()"
      ],
      "metadata": {
        "id": "qX0wMsJW8pq3"
      },
      "execution_count": null,
      "outputs": []
    },
    {
      "cell_type": "markdown",
      "source": [
        "## **Dimensionality Reduction**"
      ],
      "metadata": {
        "id": "C6cOz5nn8zsz"
      }
    },
    {
      "cell_type": "code",
      "source": [
        "from sklearn.decomposition import PCA"
      ],
      "metadata": {
        "id": "voMWMJXk88we"
      },
      "execution_count": null,
      "outputs": []
    },
    {
      "cell_type": "code",
      "source": [
        "p = PCA(n_components=3)\n",
        "p.fit(data)"
      ],
      "metadata": {
        "id": "IxnCLWa_8041"
      },
      "execution_count": null,
      "outputs": []
    },
    {
      "cell_type": "code",
      "source": [
        "W = p.components_.T\n",
        "W"
      ],
      "metadata": {
        "id": "KKecSqW69EA_"
      },
      "execution_count": null,
      "outputs": []
    },
    {
      "cell_type": "code",
      "source": [
        "pd.DataFrame(W, index=data.columns, columns=['W1','W2','W3'])"
      ],
      "metadata": {
        "id": "7MjtRWGE9JN2"
      },
      "execution_count": null,
      "outputs": []
    },
    {
      "cell_type": "code",
      "source": [
        "p.explained_variance_"
      ],
      "metadata": {
        "id": "ejBtWKfX9QBH"
      },
      "execution_count": null,
      "outputs": []
    },
    {
      "cell_type": "code",
      "source": [
        "p.explained_variance_ratio_"
      ],
      "metadata": {
        "id": "XFct-Ila9Uht"
      },
      "execution_count": null,
      "outputs": []
    },
    {
      "cell_type": "code",
      "source": [
        "pd.DataFrame(p.explained_variance_ratio_, index=range(1,4), columns=['Explained Variability'])"
      ],
      "metadata": {
        "id": "sCZtjOfB9Ye9"
      },
      "execution_count": null,
      "outputs": []
    },
    {
      "cell_type": "code",
      "source": [
        "sns.barplot(x = list(range(1,4)), y = p.explained_variance_, palette = 'GnBu_r')\n",
        "plt.xlabel('i')\n",
        "plt.ylabel('Lambda i');"
      ],
      "metadata": {
        "id": "5CdTmYG39e1V"
      },
      "execution_count": null,
      "outputs": []
    },
    {
      "cell_type": "code",
      "source": [
        "data_PCA = pd.DataFrame(p.transform(data), columns=(['col1', 'col2', 'col3']))"
      ],
      "metadata": {
        "id": "s8MZXChF9lNw"
      },
      "execution_count": null,
      "outputs": []
    },
    {
      "cell_type": "code",
      "source": [
        "data_PCA.describe().T\n"
      ],
      "metadata": {
        "id": "0aIG-qoT9nhH"
      },
      "execution_count": null,
      "outputs": []
    },
    {
      "cell_type": "code",
      "source": [
        "x = data_PCA['col1']\n",
        "y = data_PCA['col2']\n",
        "z = data_PCA['col3']\n",
        "\n",
        "fig = plt.figure(figsize=(13,8))\n",
        "ax = fig.add_subplot(111, projection='3d')\n",
        "ax.scatter(x,y,z, c='darkred', marker='o')\n",
        "ax.set_title('A 3D Projection of Data In the Reduced Dimension')\n",
        "plt.show()"
      ],
      "metadata": {
        "id": "w28J67Lk9q7P"
      },
      "execution_count": null,
      "outputs": []
    },
    {
      "cell_type": "code",
      "source": [
        "from sklearn.preprocessing import StandardScaler\n",
        "scalar=StandardScaler()\n",
        "from sklearn.decomposition import PCA\n",
        "from sklearn.cluster import KMeans,AgglomerativeClustering,DBSCAN,SpectralClustering\n",
        "from sklearn.mixture import GaussianMixture\n",
        "from sklearn.metrics import silhouette_samples, silhouette_score\n",
        "from sklearn.tree import DecisionTreeClassifier\n",
        "from sklearn.model_selection import train_test_split\n",
        "from sklearn.metrics import classification_report\n",
        "from sklearn.cluster import KMeans,AgglomerativeClustering,DBSCAN\n",
        "from sklearn.preprocessing import MinMaxScaler,StandardScaler\n",
        "from sklearn.metrics import silhouette_score,calinski_harabasz_score\n",
        "from sklearn import tree\n",
        "from sklearn import metrics\n",
        "\n",
        "import warnings\n",
        "warnings.filterwarnings(\"ignore\")"
      ],
      "metadata": {
        "id": "O2AClSYntPuP"
      },
      "execution_count": null,
      "outputs": []
    },
    {
      "cell_type": "code",
      "source": [
        "#Data Preprocessing\n",
        "#Standardization\n",
        "standard_scaler = StandardScaler()\n",
        "std = standard_scaler.fit_transform(df)\n",
        "std.shape"
      ],
      "metadata": {
        "id": "TQaiWyXfuSxB"
      },
      "execution_count": null,
      "outputs": []
    },
    {
      "cell_type": "code",
      "source": [
        "#Normalization\n",
        "minmax = MinMaxScaler()\n",
        "norm = minmax.fit_transform(df)\n",
        "norm.shape"
      ],
      "metadata": {
        "id": "2o3D81RJva7L"
      },
      "execution_count": null,
      "outputs": []
    },
    {
      "cell_type": "markdown",
      "source": [
        "#K means  Clustering"
      ],
      "metadata": {
        "id": "-KPZA0lZvwxG"
      }
    },
    {
      "cell_type": "code",
      "source": [
        "#Elbow method & Scaler Method on Data\n",
        "cluster_range = range(1,15)\n",
        "cluster_errors = []\n",
        "for num_clusters in cluster_range:\n",
        "    clusters = KMeans(num_clusters,n_init=10)\n",
        "    clusters.fit(std)\n",
        "    labels = clusters.labels_\n",
        "    centroids = clusters.cluster_centers_\n",
        "    cluster_errors.append(clusters.inertia_)\n",
        "clusters_df = pd.DataFrame({\"Num_Clusters\":cluster_range,\"Cluster_Errors\":cluster_errors})\n",
        "clusters_df"
      ],
      "metadata": {
        "id": "MKpzCEyWvwDQ"
      },
      "execution_count": null,
      "outputs": []
    },
    {
      "cell_type": "code",
      "source": [
        "wcss=[]\n",
        "for i in range(1,9):\n",
        "    kmeans = KMeans(n_clusters=i,random_state=2)\n",
        "    kmeans.fit(std)\n",
        "    wcss.append(kmeans.inertia_)\n",
        "\n",
        "# Plot K values range vs WCSS to get Elbow graph for choosing K (no. of clusters)\n",
        "plt.plot(range(1,9),wcss,color = 'black')\n",
        "plt.scatter(range(1,9),wcss,color='red')\n",
        "plt.title('Elbow Graph for Standard Scaler')\n",
        "plt.xlabel('Number of clusters')\n",
        "plt.ylabel('WCSS')\n",
        "plt.show()"
      ],
      "metadata": {
        "id": "DaxUGMiHv6U0"
      },
      "execution_count": null,
      "outputs": []
    },
    {
      "cell_type": "code",
      "source": [
        "#Silhouette Score\n",
        "n_clusters=[2,3,4,5,6,7,8,9,10]\n",
        "clusters_inertia=[]\n",
        "s_scores=[]\n",
        "\n",
        "for n in n_clusters:\n",
        "  KM_est=KMeans(n_clusters=n,init='k-means++').fit(std)\n",
        "  clusters_inertia.append(KM_est.inertia_)  # data for the elbow method\n",
        "  silhouette_avg = silhouette_score(std, KM_est.labels_)\n",
        "  s_scores.append(silhouette_avg)"
      ],
      "metadata": {
        "id": "sAW1SXdrwFU2"
      },
      "execution_count": null,
      "outputs": []
    },
    {
      "cell_type": "code",
      "source": [
        "fig, ax = plt.subplots(figsize=(12,5))\n",
        "ax =sns.lineplot(s_scores,marker='o',ax=ax)\n",
        "ax.set_title(\"Silhouette score method\")\n",
        "ax.set_xlabel(\"number of clusters\")\n",
        "ax.set_ylabel(\"Silhouette score\")\n",
        "ax.axvline(2,ls=\"--\", c=\"red\")\n",
        "plt.grid()\n",
        "plt.show()"
      ],
      "metadata": {
        "id": "4BNnk8FewVql"
      },
      "execution_count": null,
      "outputs": []
    },
    {
      "cell_type": "code",
      "source": [
        "import scipy.cluster.hierarchy as sch\n",
        "from yellowbrick.cluster import KElbowVisualizer"
      ],
      "metadata": {
        "id": "M9tnWwnrw5EY"
      },
      "execution_count": null,
      "outputs": []
    },
    {
      "cell_type": "code",
      "source": [
        "# Instantiate a scikit-learn K-Means model. we will check for two diff hyperparameters value effect.\n",
        "model = KMeans(random_state=10, max_iter=500, init='k-means++')\n",
        "\n",
        "# Instantiate the KElbowVisualizer with the number of clusters and the metric\n",
        "visualizer = KElbowVisualizer(model, k=(2,20), metric='silhouette', timings=False)\n",
        "fig, ax = plt.subplots(figsize=(12,5))\n",
        "# Fit the data and visualize\n",
        "print('Elbow Plot for Standard Scaler data')\n",
        "visualizer.fit(std)\n",
        "visualizer.poof()\n",
        "plt.show()"
      ],
      "metadata": {
        "id": "LQLTcO3DwgfM"
      },
      "execution_count": null,
      "outputs": []
    },
    {
      "cell_type": "code",
      "source": [
        "clust_list = [2,3,4,5,6,7,8,9]\n",
        "\n",
        "#  Silhouette score for stadardScaler applied on data.\n",
        "for n_clusters in clust_list:\n",
        "    clusterer1 = KMeans(n_clusters=n_clusters, random_state=0)\n",
        "    cluster_labels1 = clusterer1.fit_predict(std)\n",
        "    sil_score1= silhouette_score(std, cluster_labels1)\n",
        "    print(\"For n_clusters =\", n_clusters,\"The average silhouette_score is :\", sil_score1)\n"
      ],
      "metadata": {
        "id": "boMk-JQEwj3W"
      },
      "execution_count": null,
      "outputs": []
    },
    {
      "cell_type": "markdown",
      "source": [
        "Conclusion: According the the silhouette score of:\n",
        "\n",
        "The standardized data, the ideal number of clusters is 5, with a score higher than other options, of 0.179"
      ],
      "metadata": {
        "id": "JM6rQ897xOZZ"
      }
    },
    {
      "cell_type": "code",
      "source": [
        "model_kmeans = KMeans(n_clusters=6, random_state=0, init='k-means++')\n",
        "y_predict_kmeans = model_kmeans.fit_predict(std)\n",
        "y_predict_kmeans.shape"
      ],
      "metadata": {
        "id": "i-sg5DqaxNwR"
      },
      "execution_count": null,
      "outputs": []
    },
    {
      "cell_type": "code",
      "source": [
        "y_predict_kmeans"
      ],
      "metadata": {
        "id": "O0zdEmCPxC_t"
      },
      "execution_count": null,
      "outputs": []
    },
    {
      "cell_type": "code",
      "source": [
        "model_kmeans.labels_"
      ],
      "metadata": {
        "id": "lWEgJsFnxbsR"
      },
      "execution_count": null,
      "outputs": []
    },
    {
      "cell_type": "code",
      "source": [
        "model_kmeans.cluster_centers_"
      ],
      "metadata": {
        "id": "3gXdwCpvxeWP"
      },
      "execution_count": null,
      "outputs": []
    },
    {
      "cell_type": "code",
      "source": [
        "model_kmeans.inertia_"
      ],
      "metadata": {
        "id": "wyeUk-yuxgEr"
      },
      "execution_count": null,
      "outputs": []
    },
    {
      "cell_type": "code",
      "source": [
        "df['Kmeans_Label'] = model_kmeans.labels_"
      ],
      "metadata": {
        "id": "-wY9_Y1jxjOQ"
      },
      "execution_count": null,
      "outputs": []
    },
    {
      "cell_type": "code",
      "source": [
        "df.groupby('Kmeans_Label').agg(['mean'])"
      ],
      "metadata": {
        "id": "LbF3cNtAylBn"
      },
      "execution_count": null,
      "outputs": []
    },
    {
      "cell_type": "code",
      "source": [
        "from yellowbrick.cluster import SilhouetteVisualizer\n",
        "\n",
        "fig,(ax1,ax2) = plt.subplots(1,2,sharey=False)\n",
        "fig.set_size_inches(12,6)\n",
        "\n",
        "sil_visualizer1 = SilhouetteVisualizer(model_kmeans,ax= ax1, colors=['#922B21','#5B2C6F','#1B4F72','#32a84a','#a83232','#323aa8'])\n",
        "sil_visualizer1.fit(std)\n",
        "\n",
        "# 2nd Plot showing the actual clusters formed\n",
        "\n",
        "import matplotlib.cm as cm\n",
        "colors1 = cm.nipy_spectral(model_kmeans.labels_.astype(float) / 6) # 6 is number of clusters\n",
        "ax2.scatter(std[:, 6], std[:, 9], marker='.', s=30, lw=0, alpha=0.7, c=colors1, edgecolor='k')\n",
        "\n",
        "# Labeling the clusters\n",
        "centers1 = model_kmeans.cluster_centers_\n",
        "# Draw white circles at cluster centers\n",
        "ax2.scatter(centers1[:, 6], centers1[:, 9], marker='o',c=\"white\", alpha=1, s=200, edgecolor='k')\n",
        "\n",
        "for i, c in enumerate(centers1):\n",
        "    ax2.scatter(c[6], c[9], marker='$%d$' % i, alpha=1,s=50, edgecolor='k')\n",
        "\n",
        "ax2.set_title(label =\"The visualization of the clustered data.\")\n",
        "ax2.set_xlabel(\"Feature space for the 1st feature\")\n",
        "ax2.set_ylabel(\"Feature space for the 2nd feature\")\n",
        "\n",
        "plt.suptitle((\"Silhouette analysis for KMeans clustering on sample data \"\n",
        "              \"with n_clusters = %d\" % 6),fontsize=14, fontweight='bold')\n",
        "\n",
        "sil_visualizer1.show()\n",
        "plt.show()"
      ],
      "metadata": {
        "id": "xIg8xEYpyp0A"
      },
      "execution_count": null,
      "outputs": []
    },
    {
      "cell_type": "code",
      "source": [
        "#Elbow Method and Silhouette Score on MinMaxScaler Applied Data\n",
        "cluster_range = range(1,15)\n",
        "cluster_errors = []\n",
        "for num_clusters in cluster_range:\n",
        "    clusters = KMeans(num_clusters,n_init=10)\n",
        "    clusters.fit(norm)\n",
        "    labels = clusters.labels_\n",
        "    centroids = clusters.cluster_centers_\n",
        "    cluster_errors.append(clusters.inertia_)\n",
        "clusters_df = pd.DataFrame({\"Num_Clusters\":cluster_range,\"Cluster_Errors\":cluster_errors})\n",
        "clusters_df"
      ],
      "metadata": {
        "id": "2TosApOCzSZ3"
      },
      "execution_count": null,
      "outputs": []
    },
    {
      "cell_type": "code",
      "source": [
        "wcss=[]\n",
        "for i in range (1,9):\n",
        "    kmeans=KMeans(n_clusters=i,random_state=2)\n",
        "    kmeans.fit(norm)\n",
        "    wcss.append(kmeans.inertia_)\n",
        "\n",
        "# Plot K values range vs WCSS to get Elbow graph for choosing K (no. of clusters)\n",
        "fig, ax = plt.subplots(figsize=(12,5))\n",
        "plt.plot(range(1,9), wcss,color = 'black')\n",
        "plt.scatter(range(1,9), wcss,color='red')\n",
        "plt.title('Elbow Graph for MinMaxScaler')\n",
        "plt.xlabel('Number of clusters')\n",
        "plt.ylabel('WCSS')\n",
        "plt.show()"
      ],
      "metadata": {
        "id": "fWFemKPFzfk1"
      },
      "execution_count": null,
      "outputs": []
    },
    {
      "cell_type": "code",
      "source": [
        "n_clusters = [2,3,4,5,6,7,8,9,10] # number of clusters\n",
        "clusters_inertia = [] # inertia of clusters\n",
        "s_scores = [] # silhouette scores\n",
        "\n",
        "for n in n_clusters:\n",
        "    KM_est = KMeans(n_clusters=n, init='k-means++').fit(norm)\n",
        "    clusters_inertia.append(KM_est.inertia_)    # data for the elbow method\n",
        "    silhouette_avg = silhouette_score(norm, KM_est.labels_)\n",
        "    s_scores.append(silhouette_avg) # data for the silhouette score method\n",
        "\n",
        "fig, ax = plt.subplots(figsize=(12,5))\n",
        "ax = sns.lineplot( s_scores, marker='o', ax=ax)\n",
        "ax.set_title(\"Silhouette score method\")\n",
        "ax.set_xlabel(\"number of clusters\")\n",
        "ax.set_ylabel(\"Silhouette score\")\n",
        "ax.axvline(2, ls=\"--\", c=\"red\")\n",
        "plt.grid()\n",
        "plt.show()"
      ],
      "metadata": {
        "id": "Ll5QRcfkzoGG"
      },
      "execution_count": null,
      "outputs": []
    },
    {
      "cell_type": "code",
      "source": [
        "model = KMeans(random_state=10, max_iter=500, init='k-means++')\n",
        "plt.subplots(figsize=(12,5))\n",
        "# Instantiate the KElbowVisualizer with the number of clusters and the metric\n",
        "visualizer = KElbowVisualizer(model, k=(2,20), metric='silhouette', timings=False)\n",
        "# Fit the data and visualize\n",
        "print('Elbow Plot for Normalization data')\n",
        "visualizer.fit(norm)\n",
        "visualizer.poof()\n",
        "plt.show()"
      ],
      "metadata": {
        "id": "gcg0H8GEzvhf"
      },
      "execution_count": null,
      "outputs": []
    },
    {
      "cell_type": "code",
      "source": [
        "clust_list = [2,3,4,5,6,7,8,9]\n",
        "\n",
        "# Silhouette score for MinMaxScaler Applied on data .\n",
        "for n_clusters in clust_list:\n",
        "    clusterer1 = KMeans(n_clusters=n_clusters, random_state=0)\n",
        "    cluster_labels1 = clusterer1.fit_predict(norm)\n",
        "    sil_score1= silhouette_score(norm, cluster_labels1)\n",
        "    print(\"For n_clusters =\", n_clusters,\"The average silhouette_score is :\", sil_score1)"
      ],
      "metadata": {
        "id": "D8kBYCGlz3RF"
      },
      "execution_count": null,
      "outputs": []
    },
    {
      "cell_type": "code",
      "source": [
        "model_kmeans = KMeans(n_clusters=2, random_state=0, init='k-means++')\n",
        "y_predict_kmeans = model_kmeans.fit_predict(norm)\n",
        "y_predict_kmeans.shape"
      ],
      "metadata": {
        "id": "AC8t648iz-3-"
      },
      "execution_count": null,
      "outputs": []
    },
    {
      "cell_type": "code",
      "source": [
        "# these are nothing but cluster labels...\n",
        "y_predict_kmeans"
      ],
      "metadata": {
        "id": "jd0lEMnp0Og8"
      },
      "execution_count": null,
      "outputs": []
    },
    {
      "cell_type": "code",
      "source": [
        "model_kmeans.labels_"
      ],
      "metadata": {
        "id": "9TNzSMtx0Q9b"
      },
      "execution_count": null,
      "outputs": []
    },
    {
      "cell_type": "code",
      "source": [
        "# cluster centres associated with each lables\n",
        "model_kmeans.cluster_centers_"
      ],
      "metadata": {
        "id": "lpFbZhMD0S-A"
      },
      "execution_count": null,
      "outputs": []
    },
    {
      "cell_type": "code",
      "source": [
        "model_kmeans.inertia_"
      ],
      "metadata": {
        "id": "Ob2ROJIS0VqN"
      },
      "execution_count": null,
      "outputs": []
    },
    {
      "cell_type": "code",
      "source": [
        "from yellowbrick.cluster import SilhouetteVisualizer\n",
        "\n",
        "fig,(ax1,ax2) = plt.subplots(1,2,sharey=False)\n",
        "fig.set_size_inches(12,5)\n",
        "sil_visualizer1 = SilhouetteVisualizer(model_kmeans,ax= ax1, colors=['#922B21','#5B2C6F','#1B4F72','#32a84a'])\n",
        "sil_visualizer1.fit(norm)\n",
        "\n",
        "# 2nd Plot showing the actual clusters formed\n",
        "\n",
        "import matplotlib.cm as cm\n",
        "colors1 = cm.nipy_spectral(model_kmeans.labels_.astype(float) / 2) # 2 is number of clusters\n",
        "ax2.scatter(norm[:, 6], norm[:, 9], marker='.', s=30, lw=0, alpha=0.7, c=colors1, edgecolor='k')\n",
        "\n",
        "# Labeling the clusters\n",
        "centers1 = model_kmeans.cluster_centers_\n",
        "# Draw white circles at cluster centers\n",
        "ax2.scatter(centers1[:, 6], centers1[:, 9], marker='o',c=\"white\", alpha=1, s=200, edgecolor='k')\n",
        "\n",
        "for i, c in enumerate(centers1):\n",
        "    ax2.scatter(c[6], c[9], marker='$%d$' % i, alpha=1,s=50, edgecolor='k')\n",
        "\n",
        "ax2.set_title(label =\"The visualization of the clustered data.\")\n",
        "ax2.set_xlabel(\"Feature space for the 1st feature\")\n",
        "ax2.set_ylabel(\"Feature space for the 2nd feature\")\n",
        "\n",
        "plt.suptitle((\"Silhouette analysis for KMeans clustering on sample data \"\n",
        "              \"with n_clusters = %d\" % 4),fontsize=14, fontweight='bold')\n",
        "\n",
        "sil_visualizer1.show()\n",
        "plt.show()"
      ],
      "metadata": {
        "id": "CTezb0ZV0Y-q"
      },
      "execution_count": null,
      "outputs": []
    },
    {
      "cell_type": "code",
      "source": [
        "df.groupby('Kmeans_Label').agg(['mean'])"
      ],
      "metadata": {
        "id": "M4QNZTwO0oO4"
      },
      "execution_count": null,
      "outputs": []
    },
    {
      "cell_type": "markdown",
      "source": [
        "#Hierarchical Clustering Algorithm"
      ],
      "metadata": {
        "id": "mFItubS-1M-M"
      }
    },
    {
      "cell_type": "code",
      "source": [
        "for methods in ['single','complete','average','weighted','centroid','median','ward']:\n",
        "    plt.figure(figsize =(14,6))\n",
        "    dict = {'fontsize':16,'fontweight' :14, 'color' : 'blue'}\n",
        "    plt.title('Visualising the data, Method- {}'.format(methods),fontdict = dict)\n",
        "    Dendrogram1 = sch.dendrogram(sch.linkage(norm, method = methods,optimal_ordering=False))"
      ],
      "metadata": {
        "id": "Zt6_4RO202dq"
      },
      "execution_count": null,
      "outputs": []
    },
    {
      "cell_type": "code",
      "source": [
        "n_clusters = [2,3,4,5,6,7,8]  # always start number from 2.\n",
        "\n",
        "for n_clusters in n_clusters:\n",
        "    for linkages in [\"ward\", \"complete\", \"average\", \"single\"]:\n",
        "        hie_cluster1 = AgglomerativeClustering(n_clusters=n_clusters,linkage=linkages) # bydefault it takes linkage 'ward'\n",
        "        hie_labels1 = hie_cluster1.fit_predict(norm)\n",
        "        silhouette_score1 = silhouette_score(norm, hie_labels1)\n",
        "        print(\"For n_clusters =\", n_clusters,\"The average silhouette_score with linkage-\",linkages, ':',silhouette_score1)\n",
        "    print()"
      ],
      "metadata": {
        "id": "bPs0ORE_1YCl"
      },
      "execution_count": null,
      "outputs": []
    },
    {
      "cell_type": "markdown",
      "source": [
        "Conclusion: Max score is with cluster numbers 2 in standard scaler transformation and in Min Max scaler transformation.\n",
        "\n",
        "Heirarchical clustering means creating a tree of clusters by iteratively grouping or separating data points. There are two types of hierarchical clustering: Agglomerative clustering Divisive clustering We now apply the Agglomerative clustering technique:Agglomerative clustering is kind of a bottom-up approach. Each data point is assumed to be a separate cluster at first. Then the similar clusters are iteratively combined"
      ],
      "metadata": {
        "id": "21bhNHI32a1y"
      }
    },
    {
      "cell_type": "code",
      "source": [
        "agg_clustering = AgglomerativeClustering(n_clusters=2, linkage='ward')\n",
        "y_pred_hie = agg_clustering.fit_predict(norm)\n",
        "print(y_pred_hie.shape)\n",
        "y_pred_hie"
      ],
      "metadata": {
        "id": "4ayXncUM2Vj5"
      },
      "execution_count": null,
      "outputs": []
    },
    {
      "cell_type": "code",
      "source": [
        "agg_clustering.n_clusters_"
      ],
      "metadata": {
        "id": "uVYNAsMV2dz0"
      },
      "execution_count": null,
      "outputs": []
    },
    {
      "cell_type": "code",
      "source": [
        "(silhouette_score(norm, agg_clustering.labels_)*100).round(3)"
      ],
      "metadata": {
        "id": "FroBZkDu2iIw"
      },
      "execution_count": null,
      "outputs": []
    },
    {
      "cell_type": "code",
      "source": [
        "df['Hierarchical_Labels'] = agg_clustering.labels_"
      ],
      "metadata": {
        "id": "pxwMm5642kS5"
      },
      "execution_count": null,
      "outputs": []
    },
    {
      "cell_type": "code",
      "source": [
        "df.groupby('Hierarchical_Labels').agg(['mean'])"
      ],
      "metadata": {
        "id": "mNRxN8Zv2rS2"
      },
      "execution_count": null,
      "outputs": []
    },
    {
      "cell_type": "markdown",
      "source": [
        "Model Building"
      ],
      "metadata": {
        "id": "d_qLnjXh27ac"
      }
    },
    {
      "cell_type": "code",
      "source": [
        "df"
      ],
      "metadata": {
        "id": "c3KGyZDb27DT"
      },
      "execution_count": null,
      "outputs": []
    },
    {
      "cell_type": "code",
      "source": [
        "from sklearn.model_selection import train_test_split"
      ],
      "metadata": {
        "id": "3_zuu3Jk2tp9"
      },
      "execution_count": null,
      "outputs": []
    },
    {
      "cell_type": "code",
      "source": [
        "df.head()"
      ],
      "metadata": {
        "id": "emP6Szwh5fV0"
      },
      "execution_count": null,
      "outputs": []
    },
    {
      "cell_type": "code",
      "source": [
        "from sklearn import preprocessing\n",
        "label_encoder = preprocessing.LabelEncoder()\n",
        "df"
      ],
      "metadata": {
        "id": "vCdnaSDr5iTl"
      },
      "execution_count": null,
      "outputs": []
    },
    {
      "cell_type": "code",
      "source": [
        "X = df.iloc[:,0:27]\n",
        "Y = df.iloc[:,27]"
      ],
      "metadata": {
        "id": "o9VJ7WsY5tgE"
      },
      "execution_count": null,
      "outputs": []
    },
    {
      "cell_type": "code",
      "source": [
        "x_train, x_test, y_train, y_test = train_test_split (X,Y,test_size = 0.2, random_state = 42)"
      ],
      "metadata": {
        "id": "pd2kOrdY72qv"
      },
      "execution_count": null,
      "outputs": []
    },
    {
      "cell_type": "code",
      "source": [
        "print(x_train.shape, x_test.shape, y_train.shape, y_test.shape)"
      ],
      "metadata": {
        "id": "P05rLZ0T8APO"
      },
      "execution_count": null,
      "outputs": []
    },
    {
      "cell_type": "markdown",
      "source": [
        "#Model Building"
      ],
      "metadata": {
        "id": "QTI0iLM78G8q"
      }
    },
    {
      "cell_type": "code",
      "source": [
        "from sklearn import metrics\n",
        "from sklearn.metrics import accuracy_score\n",
        "from sklearn.metrics import classification_report as report\n",
        "from sklearn.naive_bayes import GaussianNB\n",
        "from sklearn.naive_bayes import MultinomialNB\n",
        "from sklearn.naive_bayes import BernoulliNB"
      ],
      "metadata": {
        "id": "3aT-MLG28DA3"
      },
      "execution_count": null,
      "outputs": []
    },
    {
      "cell_type": "markdown",
      "source": [
        "Gaussian Naive Bayes"
      ],
      "metadata": {
        "id": "_FLyNGUK8VSg"
      }
    },
    {
      "cell_type": "code",
      "source": [
        "#instantiating the object\n",
        "model_GNB = GaussianNB()\n",
        "\n",
        "#fit the model\n",
        "model_GNB.fit(x_train, y_train)"
      ],
      "metadata": {
        "id": "R-WFh6Xx8Ms4"
      },
      "execution_count": null,
      "outputs": []
    },
    {
      "cell_type": "code",
      "source": [
        "#prediction\n",
        "y_pred_GNB = model_GNB.predict(x_test)"
      ],
      "metadata": {
        "id": "yg-Uv8c48kf6"
      },
      "execution_count": null,
      "outputs": []
    },
    {
      "cell_type": "code",
      "source": [
        "#Accuracy\n",
        "#first argument is true values, second argument is predicted values\n",
        "model_GNB_score = accuracy_score(y_test,y_pred_GNB)\n",
        "print('GaussianNB Model accuracy score: {0:0.4f}'. format(accuracy_score(y_test, y_pred_GNB)))"
      ],
      "metadata": {
        "id": "kNgr-kRe8myB"
      },
      "execution_count": null,
      "outputs": []
    },
    {
      "cell_type": "markdown",
      "source": [
        "Bernoulli Naive Bayes"
      ],
      "metadata": {
        "id": "egBghVoTFirl"
      }
    },
    {
      "cell_type": "code",
      "source": [
        "#Bernoulli Naive Bayes\n",
        "#instantiating the object\n",
        "model_BNB = BernoulliNB()\n",
        "\n",
        "#fit the model\n",
        "model_BNB.fit(x_train, y_train)\n",
        "\n",
        "#prediction\n",
        "y_pred_BNB = model_BNB.predict(x_test)\n",
        "\n",
        "#Accuracy\n",
        "#first argument is true values, second argument is predicted values\n",
        "model_BNB_score = accuracy_score(y_test,y_pred_BNB)\n",
        "print('BernoulliNB Model accuracy score: {0:0.4f}'. format(accuracy_score(y_test, y_pred_BNB)))"
      ],
      "metadata": {
        "id": "AsdulGF39ISl"
      },
      "execution_count": null,
      "outputs": []
    },
    {
      "cell_type": "markdown",
      "source": [
        "Decision Tree"
      ],
      "metadata": {
        "id": "Oh3xCko29S-T"
      }
    },
    {
      "cell_type": "code",
      "source": [
        "from sklearn.tree import  DecisionTreeClassifier\n",
        "from sklearn import tree"
      ],
      "metadata": {
        "id": "rhtzJ1t18-iE"
      },
      "execution_count": null,
      "outputs": []
    },
    {
      "cell_type": "code",
      "source": [
        "# Decision Tree Classifier with criteria as entropy\n",
        "\n",
        "model_DT = DecisionTreeClassifier(criterion = 'entropy',max_depth=4)\n",
        "model_DT.fit(x_train,y_train)\n",
        "\n",
        "#Predicting on test data\n",
        "pred = model_DT.predict(x_test)\n",
        "pred"
      ],
      "metadata": {
        "id": "3Q1DO5069X8Y"
      },
      "execution_count": null,
      "outputs": []
    },
    {
      "cell_type": "code",
      "source": [
        "pd.crosstab(y_test,pred)"
      ],
      "metadata": {
        "id": "SCUtNT7q9aa8"
      },
      "execution_count": null,
      "outputs": []
    },
    {
      "cell_type": "code",
      "source": [
        "# Accuracy\n",
        "np.mean(pred==y_test)"
      ],
      "metadata": {
        "id": "jsbRuAzQ9elv"
      },
      "execution_count": null,
      "outputs": []
    },
    {
      "cell_type": "code",
      "source": [
        "Model_DT_score = accuracy_score(y_test, pred)\n",
        "Model_DT_score\n",
        "print(\" Decision Tree Classifier with Entropy: \")\n",
        "print(report(y_test, pred))"
      ],
      "metadata": {
        "id": "d2iywboP9g2R"
      },
      "execution_count": null,
      "outputs": []
    },
    {
      "cell_type": "code",
      "source": [
        "tree.plot_tree(model_DT)"
      ],
      "metadata": {
        "id": "t2Bzml-B9kCX"
      },
      "execution_count": null,
      "outputs": []
    },
    {
      "cell_type": "code",
      "source": [
        "# Decision Tree Classifier with criteria as Gini\n",
        "\n",
        "model_DT2 = DecisionTreeClassifier(criterion = 'entropy',max_depth=4)\n",
        "model_DT2.fit(x_train,y_train)\n",
        "\n",
        "#Predicting on test data\n",
        "pred2 = model_DT.predict(x_test)\n",
        "pred2"
      ],
      "metadata": {
        "id": "_y4mCIiU9mY0"
      },
      "execution_count": null,
      "outputs": []
    },
    {
      "cell_type": "code",
      "source": [
        "pd.crosstab(y_test,pred2)"
      ],
      "metadata": {
        "id": "brVSHn3L9pN-"
      },
      "execution_count": null,
      "outputs": []
    },
    {
      "cell_type": "code",
      "source": [
        "# Accuracy\n",
        "np.mean(pred2==y_test)"
      ],
      "metadata": {
        "id": "TOdneW799sw2"
      },
      "execution_count": null,
      "outputs": []
    },
    {
      "cell_type": "code",
      "source": [
        "Model_DT2_Score = accuracy_score(y_test, pred)\n",
        "print(\"Decision Tree Classifier with GINI\")\n",
        "print(report(y_test,pred2))"
      ],
      "metadata": {
        "id": "nP2f68dO9vat"
      },
      "execution_count": null,
      "outputs": []
    },
    {
      "cell_type": "code",
      "source": [
        "tree.plot_tree(model_DT2)"
      ],
      "metadata": {
        "id": "Y1TnF8Dn9xyT"
      },
      "execution_count": null,
      "outputs": []
    },
    {
      "cell_type": "markdown",
      "source": [
        "KNN Classifier"
      ],
      "metadata": {
        "id": "GJ90MlJF-bWF"
      }
    },
    {
      "cell_type": "code",
      "source": [
        "from sklearn.neighbors import KNeighborsClassifier\n",
        "\n",
        "model_KNN=KNeighborsClassifier(n_neighbors=10)\n",
        "model_KNN.fit(x_train,y_train)\n",
        "pred_knn = model_KNN.predict(x_test)\n",
        "\n",
        "pd.crosstab(y_test,pred_knn)\n",
        "Model_KNN_score= accuracy_score(y_test,pred_knn)\n",
        "\n",
        "print(report(y_test,pred_knn))"
      ],
      "metadata": {
        "id": "AHaVFMTI-okY"
      },
      "execution_count": null,
      "outputs": []
    },
    {
      "cell_type": "code",
      "source": [
        "Model_KNN_score"
      ],
      "metadata": {
        "id": "9Xbqp2Vp_WN-"
      },
      "execution_count": null,
      "outputs": []
    },
    {
      "cell_type": "markdown",
      "source": [
        "Xg Boost"
      ],
      "metadata": {
        "id": "Y_qPfZmzABev"
      }
    },
    {
      "cell_type": "code",
      "source": [
        "from xgboost import XGBClassifier"
      ],
      "metadata": {
        "id": "RkYrJZ-TAG2D"
      },
      "execution_count": null,
      "outputs": []
    },
    {
      "cell_type": "code",
      "source": [
        "model_xgboost = XGBClassifier(n_estimators = 100, max_depth =3)\n",
        "model_xgboost.fit(x_train,y_train)"
      ],
      "metadata": {
        "id": "f7Tc3-yg_tAz"
      },
      "execution_count": null,
      "outputs": []
    },
    {
      "cell_type": "code",
      "source": [
        "y_pred_xgboost = model_xgboost.predict(x_test)"
      ],
      "metadata": {
        "id": "mf3qpMs4AFrH"
      },
      "execution_count": null,
      "outputs": []
    },
    {
      "cell_type": "code",
      "source": [
        "model_xgboost_score= accuracy_score(y_test, y_pred_xgboost)\n",
        "model_xgboost_score"
      ],
      "metadata": {
        "id": "Lt-lCsbIANCZ"
      },
      "execution_count": null,
      "outputs": []
    },
    {
      "cell_type": "markdown",
      "source": [
        "Random forest"
      ],
      "metadata": {
        "id": "DIO_osb8A1rg"
      }
    },
    {
      "cell_type": "code",
      "source": [
        "from sklearn.ensemble import RandomForestClassifier"
      ],
      "metadata": {
        "id": "9vcJ6fD1ByqY"
      },
      "execution_count": null,
      "outputs": []
    },
    {
      "cell_type": "code",
      "source": [
        "model_RFC = RandomForestClassifier(n_estimators = 100, max_features=3)\n",
        "model_RFC.fit(x_train,y_train)\n",
        "rfc_pred = model_RFC.predict(x_test);"
      ],
      "metadata": {
        "id": "M_9ipmwuCUYF"
      },
      "execution_count": null,
      "outputs": []
    },
    {
      "cell_type": "code",
      "source": [
        "model_RFC_score = accuracy_score(y_test, rfc_pred)\n",
        "model_RFC_score"
      ],
      "metadata": {
        "id": "2aLSHBs1CXaU"
      },
      "execution_count": null,
      "outputs": []
    },
    {
      "cell_type": "code",
      "source": [
        "print(\"Random Forest :\")\n",
        "print(report(y_test,rfc_pred))"
      ],
      "metadata": {
        "id": "lB0mCWPxCZNC"
      },
      "execution_count": null,
      "outputs": []
    },
    {
      "cell_type": "markdown",
      "source": [
        "ADA Boost"
      ],
      "metadata": {
        "id": "-topuBoaCdAt"
      }
    },
    {
      "cell_type": "code",
      "source": [
        "from sklearn.ensemble import AdaBoostClassifier"
      ],
      "metadata": {
        "id": "VzPD3RDoCbbz"
      },
      "execution_count": null,
      "outputs": []
    },
    {
      "cell_type": "code",
      "source": [
        "model_adaboost = AdaBoostClassifier(n_estimators=100, random_state=25)\n",
        "model_adaboost.fit(x_train, y_train)\n",
        "adaboost_pred = model_adaboost.predict(x_test)"
      ],
      "metadata": {
        "id": "evmX2KD0Ch4l"
      },
      "execution_count": null,
      "outputs": []
    },
    {
      "cell_type": "code",
      "source": [
        "model_adaboost_score = accuracy_score(y_test,adaboost_pred)\n",
        "model_adaboost_score"
      ],
      "metadata": {
        "id": "ZjLLzxxACjg-"
      },
      "execution_count": null,
      "outputs": []
    },
    {
      "cell_type": "code",
      "source": [
        "print(report(y_test,adaboost_pred))"
      ],
      "metadata": {
        "id": "KBMJ06RXClIh"
      },
      "execution_count": null,
      "outputs": []
    },
    {
      "cell_type": "markdown",
      "source": [
        "Stacking"
      ],
      "metadata": {
        "id": "6PhmQhl4Cr2H"
      }
    },
    {
      "cell_type": "code",
      "source": [
        "from sklearn.ensemble import VotingClassifier"
      ],
      "metadata": {
        "id": "Ma1mo3JiCnek"
      },
      "execution_count": null,
      "outputs": []
    },
    {
      "cell_type": "code",
      "source": [
        "estimators = []\n",
        "\n",
        "estimators.append(('DTC',model_DT))\n",
        "estimators.append(('knn', model_KNN))\n",
        "estimators.append(('svm',svm))\n",
        "estimators.append(('RFC',model_RFC))\n",
        "estimators.append(('LR',model_LR))"
      ],
      "metadata": {
        "id": "62NdKynQC1yK"
      },
      "execution_count": null,
      "outputs": []
    },
    {
      "cell_type": "code",
      "source": [
        "#Creating ensemble model\n",
        "\n",
        "stacking = VotingClassifier(estimators)\n",
        "stacking.fit(x_train,y_train)\n",
        "\n",
        "stack_pred = stacking.predict(x_test)\n",
        "stack_score = accuracy_score(y_test,stack_pred)\n",
        "stack_score"
      ],
      "metadata": {
        "id": "dxyugauSC3_y"
      },
      "execution_count": null,
      "outputs": []
    },
    {
      "cell_type": "code",
      "source": [
        "print(report(y_test,stack_pred))"
      ],
      "metadata": {
        "id": "yMHPwc44C6xf"
      },
      "execution_count": null,
      "outputs": []
    },
    {
      "cell_type": "markdown",
      "source": [
        "Model Evaluation"
      ],
      "metadata": {
        "id": "RMyuDPHeDEmM"
      }
    },
    {
      "cell_type": "code",
      "source": [
        "data_score={'accuracy_score' : [0.8330,0.8555,0.9029,0.7584,0.9706,0.9051,0.8487]}"
      ],
      "metadata": {
        "id": "gn86etTcDAdt"
      },
      "execution_count": null,
      "outputs": []
    },
    {
      "cell_type": "code",
      "source": [
        "df = pd.DataFrame(data_score,index = [\"model_GNB\",\"model_BNB\",\"model_DT\",\"model_KNN\",\"model_xgboost\",\"model_adaboost\",\"model_ensemble\"] )"
      ],
      "metadata": {
        "id": "WvSykof8GHQw"
      },
      "execution_count": null,
      "outputs": []
    },
    {
      "cell_type": "code",
      "source": [
        "df.sort_values(by=['accuracy_score'])"
      ],
      "metadata": {
        "id": "DxK4YQPiGV4z"
      },
      "execution_count": null,
      "outputs": []
    },
    {
      "cell_type": "code",
      "source": [
        "# Using K-fold validation\n",
        "from sklearn.model_selection import KFold\n",
        "from sklearn.model_selection import cross_val_score"
      ],
      "metadata": {
        "id": "OwFKe8L0GoGT"
      },
      "execution_count": null,
      "outputs": []
    },
    {
      "cell_type": "code",
      "source": [
        "kfold_GNB = cross_val_score(model_GNB,X,Y, cv=5)\n",
        "print(\"K-fold validation score of Gaussian Naive bayes is\",kfold_GNB.mean())\n",
        "\n",
        "kfold_BNB = cross_val_score(model_BNB,X,Y, cv=5)\n",
        "print(\"K-fold validation score of Bernoulli Naive bayes is\",kfold_BNB.mean())\n",
        "\n",
        "kfold_KNN = cross_val_score(model_KNN,X,Y, cv=5)\n",
        "print(\"K-fold validation score of KNN is\",kfold_KNN.mean())\n",
        "\n",
        "kfold_svm = cross_val_score(svm,X,Y, cv=5)\n",
        "print(\"K-fold validation score of SVM is\",kfold_svm.mean())\n",
        "\n",
        "kfold_DT = cross_val_score(model_DT,X,Y, cv=5)\n",
        "print(\"K-fold validation score of Decision tree with criteria as entropy is\",kfold_DT.mean())\n",
        "\n",
        "kfold_xgboost = cross_val_score(model_xgboost,X,Y, cv=5)\n",
        "print(\"K-fold validation score of xgboost is\",kfold_xgboost.mean())\n",
        "\n",
        "kfold_adaboost = cross_val_score(model_adaboost,X,Y, cv=5)\n",
        "print(\"K-fold validation score of Adaboost is\",kfold_adaboost.mean())\n",
        "\n",
        "kfold_stack = cross_val_score(stacking,X,Y, cv=5)\n",
        "print(\"K-fold validation score of Stacking is\",kfold_stack.mean())"
      ],
      "metadata": {
        "id": "hGq8D9-4GwlT"
      },
      "execution_count": null,
      "outputs": []
    },
    {
      "cell_type": "code",
      "source": [
        "kfold_score = {\"Kfold_score\" :[0.8349,0.8250,0.7463,0.6772,0.8811,0.9647,0.7925,0.8395]}"
      ],
      "metadata": {
        "id": "ou0vIVilHA06"
      },
      "execution_count": null,
      "outputs": []
    },
    {
      "cell_type": "code",
      "source": [
        "df_score = pd.DataFrame(kfold_score,index = [\"model_GNB\",\"model_BNB\",\"model_DT\",\"model_KNN\",\"model_svm\",\"model_xgboost\",\"model_adaboost\",\"model_stacking\"])"
      ],
      "metadata": {
        "id": "nxlsZyNtIOzN"
      },
      "execution_count": null,
      "outputs": []
    },
    {
      "cell_type": "code",
      "source": [
        "df_score.sort_values(by='Kfold_score')"
      ],
      "metadata": {
        "id": "Y39ntPLHI67b"
      },
      "execution_count": null,
      "outputs": []
    },
    {
      "cell_type": "code",
      "source": [],
      "metadata": {
        "id": "1ZK3UG8gJ_Db"
      },
      "execution_count": null,
      "outputs": []
    }
  ]
}